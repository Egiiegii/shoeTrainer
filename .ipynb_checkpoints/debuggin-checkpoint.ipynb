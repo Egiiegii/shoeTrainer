{
 "cells": [
  {
   "cell_type": "code",
   "execution_count": 31,
   "metadata": {
    "collapsed": false,
    "deletable": true,
    "editable": true
   },
   "outputs": [
    {
     "name": "stdout",
     "output_type": "stream",
     "text": [
      "x_train\n",
      "y_train\n",
      "x_test\n",
      "y_test\n"
     ]
    }
   ],
   "source": [
    "#coding: utf-8\n",
    "'''\n",
    "Kizu Recog 2017.1.13\n",
    " \n",
    "'''\n",
    "from __future__ import print_function\n",
    "import numpy as np\n",
    "import cv2\n",
    "from keras.models import Sequential\n",
    "from keras.layers.core import Dense, Dropout, Activation, Flatten, Reshape\n",
    "from keras.optimizers import RMSprop\n",
    "from keras.optimizers import SGD\n",
    "from keras.utils import np_utils\n",
    "from keras.callbacks import EarlyStopping\n",
    "from keras.layers import Convolution2D, MaxPooling2D\n",
    "# import matplotlib.pyplot as plt # for mac\n",
    "import os.path\n",
    "from keras.models import model_from_json\n",
    "import PIL.ImageOps    \n",
    "import sys\n",
    "import time\n",
    "from PIL import Image, ImageDraw, ImageFont\n",
    "from keras import backend as K \n",
    "%matplotlib inline\n",
    "\n",
    "np.random.seed(1337)  # for reproducibility\n",
    "\n",
    "        size = (56, 56)\n",
    "        argvs = sys.argv\n",
    "        argc = len(argvs) \n",
    "        # print(argvs)\n",
    "        # print(argc)\n",
    "\n",
    "        # input image name\n",
    "        fileName=argvs[1]\n",
    " \n",
    "        winW=56 #sliding window width\n",
    "        winH=56 #sliding window height\n",
    " \n",
    "        f_log = './log'\n",
    "        f_model = './model'\n",
    "        model_filename = 'cnn_model.json'\n",
    "        weights_filename = 'cnn_model_weights.hdf5'\n",
    "        batch_size = 55\n",
    " \n",
    "        # 1. load model\n",
    "        json_string = open(os.path.join(f_model, model_filename)).read()\n",
    "        model = model_from_json(json_string)\n",
    "        sgd = SGD(lr=1e-2, decay=1e-6, momentum=0.9, nesterov=True)\n",
    " \n",
    "        model.load_weights(os.path.join(f_model,weights_filename))\n",
    "\n",
    "        # get the symbolic outputs of each \"key\" layer (we gave them unique names).\n",
    "        layer_dict = dict([(layer.name, layer) for layer in model.layers])\n",
    "        for name, layer in layer_dict:\n",
    "            print(\"name:\"+name)\n",
    "        \n",
    "\n",
    "if __name__ == \"__main__\":\n",
    "    predictModel = predictDigit()\n",
    "    predictModel.predict()\n"
   ]
  }
 ],
 "metadata": {
  "kernelspec": {
   "display_name": "Python 3",
   "language": "python",
   "name": "python3"
  },
  "language_info": {
   "codemirror_mode": {
    "name": "ipython",
    "version": 3
   },
   "file_extension": ".py",
   "mimetype": "text/x-python",
   "name": "python",
   "nbconvert_exporter": "python",
   "pygments_lexer": "ipython3",
   "version": "3.5.2"
  }
 },
 "nbformat": 4,
 "nbformat_minor": 2
}
